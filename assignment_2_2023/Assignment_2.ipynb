{
 "cells": [
  {
   "cell_type": "code",
   "execution_count": 1,
   "id": "2e7a903b-3454-48f3-98e8-5d216c1df35f",
   "metadata": {},
   "outputs": [],
   "source": [
    "# Import necessary libraries\n",
    "import rospy\n",
    "from geometry_msgs.msg import Point, Pose, Twist\n",
    "from nav_msgs.msg import Odometry\n",
    "import actionlib\n",
    "import actionlib.msg\n",
    "import assignment_2_2023.msg\n",
    "from assignment_2_2023.msg import Vel\n",
    "from assignment_2_2023.msg import PlanningAction, PlanningGoal, PlanningResult\n",
    "from std_srvs.srv import SetBool\n",
    "from actionlib_msgs.msg import GoalStatus\n",
    "from IPython.display import display\n",
    "import ipywidgets as widgets"
   ]
  },
  {
   "cell_type": "code",
   "execution_count": 2,
   "id": "98c935c0-1d0b-4365-b407-37b075a34289",
   "metadata": {},
   "outputs": [
    {
     "name": "stdout",
     "output_type": "stream",
     "text": [
      "Unable to register with master node [http://localhost:11311]: master may not be running yet. Will keep trying.\n"
     ]
    },
    {
     "ename": "ROSInitException",
     "evalue": "Failed to initialize time. Please check logs for additional details",
     "output_type": "error",
     "traceback": [
      "\u001b[0;31m---------------------------------------------------------------------------\u001b[0m",
      "\u001b[0;31mROSInitException\u001b[0m                          Traceback (most recent call last)",
      "Cell \u001b[0;32mIn[2], line 2\u001b[0m\n\u001b[1;32m      1\u001b[0m \u001b[38;5;66;03m# Initialize ROS node\u001b[39;00m\n\u001b[0;32m----> 2\u001b[0m \u001b[43mrospy\u001b[49m\u001b[38;5;241;43m.\u001b[39;49m\u001b[43minit_node\u001b[49m\u001b[43m(\u001b[49m\u001b[38;5;124;43m'\u001b[39;49m\u001b[38;5;124;43mset_target_client\u001b[39;49m\u001b[38;5;124;43m'\u001b[39;49m\u001b[43m)\u001b[49m\n\u001b[1;32m      4\u001b[0m \u001b[38;5;66;03m# Initialize action client\u001b[39;00m\n\u001b[1;32m      5\u001b[0m client \u001b[38;5;241m=\u001b[39m actionlib\u001b[38;5;241m.\u001b[39mSimpleActionClient(\u001b[38;5;124m'\u001b[39m\u001b[38;5;124m/reaching_goal\u001b[39m\u001b[38;5;124m'\u001b[39m, assignment_2_2023\u001b[38;5;241m.\u001b[39mmsg\u001b[38;5;241m.\u001b[39mPlanningAction)\n",
      "File \u001b[0;32m~/ros_catkin_ws/install_isolated/lib/python3/dist-packages/rospy/client.py:336\u001b[0m, in \u001b[0;36minit_node\u001b[0;34m(name, argv, anonymous, log_level, disable_rostime, disable_rosout, disable_signals, xmlrpc_port, tcpros_port)\u001b[0m\n\u001b[1;32m    334\u001b[0m \u001b[38;5;28;01mif\u001b[39;00m \u001b[38;5;129;01mnot\u001b[39;00m disable_rostime:\n\u001b[1;32m    335\u001b[0m     \u001b[38;5;28;01mif\u001b[39;00m \u001b[38;5;129;01mnot\u001b[39;00m rospy\u001b[38;5;241m.\u001b[39mimpl\u001b[38;5;241m.\u001b[39msimtime\u001b[38;5;241m.\u001b[39minit_simtime():\n\u001b[0;32m--> 336\u001b[0m         \u001b[38;5;28;01mraise\u001b[39;00m rospy\u001b[38;5;241m.\u001b[39mexceptions\u001b[38;5;241m.\u001b[39mROSInitException(\u001b[38;5;124m\"\u001b[39m\u001b[38;5;124mFailed to initialize time. Please check logs for additional details\u001b[39m\u001b[38;5;124m\"\u001b[39m)\n\u001b[1;32m    337\u001b[0m \u001b[38;5;28;01melse\u001b[39;00m:\n\u001b[1;32m    338\u001b[0m     rospy\u001b[38;5;241m.\u001b[39mrostime\u001b[38;5;241m.\u001b[39mset_rostime_initialized(\u001b[38;5;28;01mTrue\u001b[39;00m)\n",
      "\u001b[0;31mROSInitException\u001b[0m: Failed to initialize time. Please check logs for additional details"
     ]
    }
   ],
   "source": [
    "# Initialize ROS node\n",
    "rospy.init_node('set_target_client')\n",
    "\n",
    "# Initialize action client\n",
    "client = actionlib.SimpleActionClient('/reaching_goal', assignment_2_2023.msg.PlanningAction)\n",
    "client.wait_for_server()\n",
    "\n",
    "# Create widgets\n",
    "pos_label = widgets.Label(value=\"Current position: \")\n",
    "vel_label = widgets.Label(value=\"Current velocity: \")\n",
    "goal_label = widgets.Label(value=\"Current goal: \")\n",
    "# Create text input widgets for x and y coordinates\n",
    "input_x = widgets.FloatText(description='New goal x:')\n",
    "input_y = widgets.FloatText(description='New goal y:')\n",
    "set_goal_button = widgets.Button(description=\"Set new goal\")\n",
    "# Group widgets related to setting a new goal\n",
    "goal_box = widgets.VBox([input_x, input_y, set_goal_button])\n",
    "display(goal_box)\n",
    "\n",
    "cancel_goal_button = widgets.Button(description=\"Cancel current goal\")\n",
    "\n",
    "# Display widgets\n",
    "display(pos_label)\n",
    "display(vel_label)\n",
    "display(goal_label)\n",
    "display(cancel_goal_button)\n",
    "\n",
    "def update_position_velocity(msg):\n",
    "    # Update position and velocity labels\n",
    "    pos_label.value = f\"Current position: {msg.pose.pose.position}\"\n",
    "    vel_label.value = f\"Current velocity: {msg.twist.twist.linear}, {msg.twist.twist.angular}\"\n",
    "    \n",
    "\n",
    "def set_new_goal(_):\n",
    "    \"\"\"\n",
    "    Set a new goal for the robot.\n",
    "\n",
    "    The new goal coordinates are taken from the input_x and input_y widgets.\n",
    "    The new goal is sent to the action server and the goal label is updated.\n",
    "    \"\"\"\n",
    "    try:\n",
    "        # Get new goal coordinates from user\n",
    "        x = input_x.value\n",
    "        y = input_y.value\n",
    "\n",
    "        # Check if coordinates are valid\n",
    "        if not (-10 <= x <= 10 and -10 <= y <= 10):\n",
    "            print(\"Invalid coordinates. Please enter values between -10 and 10.\")\n",
    "            return\n",
    "\n",
    "        # Update target position parameters and the goal\n",
    "        rospy.set_param('/des_pos_x', x)\n",
    "        rospy.set_param('/des_pos_y', y)\n",
    "        goal = assignment_2_2023.msg.PlanningGoal()\n",
    "        goal.target_pose.pose.position.x = x\n",
    "        goal.target_pose.pose.position.y = y\n",
    "\n",
    "        # Send the new goal to the action server\n",
    "        client.send_goal(goal)\n",
    "        goal_label.value = f\"Current goal: {goal.target_pose.pose.position}\"\n",
    "    except Exception as e:\n",
    "        print(f\"An error occurred: {e}\")\n",
    "\n",
    "def cancel_current_goal(_):\n",
    "    # Cancel the current goal\n",
    "    client.cancel_goal()\n",
    "    goal_label.value = \"Current goal: None\"\n",
    "\n",
    "# Subscribe to /odom topic\n",
    "rospy.Subscriber(\"/odom\", Odometry, update_position_velocity)\n",
    "\n",
    "# Set button click handlers\n",
    "set_goal_button.on_click(set_new_goal)\n",
    "cancel_goal_button.on_click(cancel_current_goal)\n",
    "\n",
    "# Start ROS spin loop\n",
    "rospy.spin()"
   ]
  },
  {
   "cell_type": "code",
   "execution_count": null,
   "id": "5e997874-f999-4bd6-be5f-7f91d3cc4577",
   "metadata": {},
   "outputs": [],
   "source": []
  }
 ],
 "metadata": {
  "kernelspec": {
   "display_name": "Python 3 (ipykernel)",
   "language": "python",
   "name": "python3"
  },
  "language_info": {
   "codemirror_mode": {
    "name": "ipython",
    "version": 3
   },
   "file_extension": ".py",
   "mimetype": "text/x-python",
   "name": "python",
   "nbconvert_exporter": "python",
   "pygments_lexer": "ipython3",
   "version": "3.10.12"
  }
 },
 "nbformat": 4,
 "nbformat_minor": 5
}
